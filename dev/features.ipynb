{
 "cells": [
  {
   "cell_type": "code",
   "execution_count": null,
   "id": "4f829541",
   "metadata": {},
   "outputs": [],
   "source": [
    "from labda_parsers import Sens\n",
    "import numpy as np\n",
    "from acti_motus import Features\n",
    "import pandas as pd\n",
    "import pyinstrument\n",
    "\n",
    "# data = {\n",
    "#         \"time\": (df.index.astype(int) / 1e9).to_numpy(),\n",
    "#         \"accel\": df[[\"acc_x\", \"acc_y\", \"acc_z\"]].to_numpy(),\n",
    "#     }\n",
    "\n",
    "with pyinstrument.profile():\n",
    "    df = Sens().from_file(\"../test_data/thigh.bin\")\n",
    "    features = Features(sampling_frequency=12.5)\n",
    "    timestamps, data = features._df_to_server(df)\n",
    "    sens = features.sens_extract(timestamps, data)"
   ]
  }
 ],
 "metadata": {
  "kernelspec": {
   "display_name": ".venv",
   "language": "python",
   "name": "python3"
  },
  "language_info": {
   "codemirror_mode": {
    "name": "ipython",
    "version": 3
   },
   "file_extension": ".py",
   "mimetype": "text/x-python",
   "name": "python",
   "nbconvert_exporter": "python",
   "pygments_lexer": "ipython3",
   "version": "3.11.11"
  }
 },
 "nbformat": 4,
 "nbformat_minor": 5
}
