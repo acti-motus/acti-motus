{
 "cells": [
  {
   "cell_type": "code",
   "execution_count": null,
   "id": "0",
   "metadata": {},
   "outputs": [],
   "source": [
    "import logging\n",
    "\n",
    "# Configure logging to see info messages\n",
    "logging.basicConfig(level=logging.INFO, format='%(name)s - %(levelname)s - %(message)s')"
   ]
  },
  {
   "cell_type": "code",
   "execution_count": null,
   "id": "1",
   "metadata": {},
   "outputs": [],
   "source": [
    "from pyinstrument import Profiler\n",
    "\n",
    "\n",
    "profiler = Profiler()\n",
    "\n",
    "with profiler:\n",
    "    pass\n",
    "\n",
    "profiler.write_html('../temp/features.html')"
   ]
  },
  {
   "cell_type": "code",
   "execution_count": null,
   "id": "2",
   "metadata": {},
   "outputs": [],
   "source": [
    "from labda_parsers import Sens\n",
    "from acti_motus import Features\n",
    "\n",
    "features = Features()\n",
    "reader = Sens()\n",
    "\n",
    "files = {\n",
    "    'thigh': '../test_data/thigh.bin',\n",
    "    'trunk': '../test_data/trunk.bin',\n",
    "    'calf': '../test_data/calf.bin',\n",
    "    'arm': '../test_data/arm.bin',\n",
    "}\n",
    "\n",
    "for name, file in files.items():\n",
    "    df = reader.from_file(file)\n",
    "\n",
    "    # df['acc_x'] = -df['acc_x'] # Setting incorrect sensor placement\n",
    "    # df.iloc[20000:200000] = 0 # Imputting non-wear\n",
    "    # df.iloc[0:250000] = 0 # Imputting non-wear\n",
    "\n",
    "    f = features.extract(df)\n",
    "    f.to_parquet(f'../temp/{name}_features.parquet')"
   ]
  },
  {
   "cell_type": "code",
   "execution_count": null,
   "id": "3",
   "metadata": {},
   "outputs": [],
   "source": [
    "from acti_motus.classification.references import References\n",
    "\n",
    "references = References(\n",
    "    **{\n",
    "        'thigh': {\n",
    "            'value': -0.201,\n",
    "            'expires': '2024-09-03 12:05:51+00:00',\n",
    "        },\n",
    "        'trunk': {\n",
    "            'value': [1.320, 0.247, -0.038],\n",
    "            'expires': '2024-09-04 13:05:51+00:00',\n",
    "        },\n",
    "        'calibrations': [\n",
    "            {\n",
    "                'start': '2024-09-03 08:08:51+00:00',\n",
    "                'end': '2024-09-03 08:09:11+00:00',\n",
    "                'ttl': '24h',\n",
    "            },\n",
    "            {\n",
    "                'start': '2024-09-02 10:36:31+00:00',\n",
    "                'end': '2024-09-02 20:36:51+00:00',\n",
    "                'ttl': '12h',\n",
    "            },\n",
    "            {\n",
    "                'start': '2024-09-03 08:16:23+00:00',\n",
    "                'end': '2024-09-03 10:17:03+00:00',\n",
    "                'ttl': '12h',\n",
    "            },\n",
    "        ],\n",
    "    }\n",
    ")"
   ]
  },
  {
   "cell_type": "code",
   "execution_count": null,
   "id": "4",
   "metadata": {},
   "outputs": [],
   "source": [
    "import pandas as pd\n",
    "from acti_motus import Thigh\n",
    "\n",
    "file = pd.read_parquet('../temp/thigh_features.parquet')\n",
    "\n",
    "references = None\n",
    "activities = Thigh('Sens').detect_activities(file, references)\n",
    "activities.to_parquet('../temp/thigh_activities.parquet')"
   ]
  },
  {
   "cell_type": "code",
   "execution_count": null,
   "id": "5",
   "metadata": {},
   "outputs": [],
   "source": [
    "from acti_motus import Trunk\n",
    "import pandas as pd\n",
    "\n",
    "activities = pd.read_parquet('../temp/thigh_activities.parquet')\n",
    "features = pd.read_parquet('../temp/trunk_features.parquet')\n",
    "\n",
    "references = None\n",
    "df = Trunk().detect_activities(features, activities, references)\n",
    "df.to_parquet('../temp/trunk_activities.parquet')"
   ]
  },
  {
   "cell_type": "code",
   "execution_count": null,
   "id": "6",
   "metadata": {},
   "outputs": [],
   "source": [
    "import logging\n",
    "from acti_motus import Calf\n",
    "import pandas as pd\n",
    "\n",
    "# Configure logging to see info messages\n",
    "logging.basicConfig(level=logging.INFO, format='%(name)s - %(levelname)s - %(message)s')\n",
    "\n",
    "activities = pd.read_parquet('../temp/trunk_activities.parquet')\n",
    "features = pd.read_parquet('../temp/calf_features.parquet')\n",
    "\n",
    "calf = Calf()\n",
    "df = calf.detect_activities(features, activities)\n",
    "df['activity'].value_counts()"
   ]
  }
 ],
 "metadata": {
  "kernelspec": {
   "display_name": ".venv",
   "language": "python",
   "name": "python3"
  },
  "language_info": {
   "codemirror_mode": {
    "name": "ipython",
    "version": 3
   },
   "file_extension": ".py",
   "mimetype": "text/x-python",
   "name": "python",
   "nbconvert_exporter": "python",
   "pygments_lexer": "ipython3",
   "version": "3.11.11"
  }
 },
 "nbformat": 4,
 "nbformat_minor": 5
}
