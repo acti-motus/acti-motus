{
 "cells": [
  {
   "cell_type": "code",
   "execution_count": null,
   "id": "0",
   "metadata": {},
   "outputs": [],
   "source": [
    "from labda_parsers import Sens\n",
    "from acti_motus import Features\n",
    "\n",
    "from pyinstrument import Profiler\n",
    "\n",
    "import logging\n",
    "\n",
    "# Configure logging to see info messages\n",
    "logging.basicConfig(level=logging.INFO, format='%(name)s - %(levelname)s - %(message)s')\n",
    "\n",
    "df = Sens().from_file('../test_data/thigh.bin')\n",
    "\n",
    "df.iloc[500:5000] = 0\n",
    "df.iloc[20000:90000] = 0\n",
    "df.iloc[150000:200000] = 0\n",
    "\n",
    "profiler = Profiler()\n",
    "\n",
    "with profiler:\n",
    "    features = Features()\n",
    "    extracted = features.extract(df)\n",
    "    # timestamps, data = features._df_to_server(df)\n",
    "    # sens = features.sens_extract(timestamps, data)\n",
    "\n",
    "extracted.to_parquet('../temp/features.parquet')\n",
    "profiler.write_html('../temp/features.html')"
   ]
  },
  {
   "cell_type": "code",
   "execution_count": null,
   "id": "1",
   "metadata": {},
   "outputs": [],
   "source": [
    "from acti_motus.classification.thigh import Thigh\n",
    "import pandas as pd\n",
    "import logging\n",
    "\n",
    "# Configure logging to see info messages\n",
    "logging.basicConfig(level=logging.INFO, format='%(name)s - %(levelname)s - %(message)s')\n",
    "\n",
    "df = pd.read_parquet('../temp/features.parquet')\n",
    "sensor = Thigh(vendor='Sens')\n",
    "\n",
    "df[['inclination', 'side_tilt', 'direction']] = sensor.get_angles(df)\n",
    "df['non_wear'] = sensor.get_non_wear(df)\n",
    "\n",
    "sensor.check_inside_out_flip(df), sensor.check_upside_down_flip(df)"
   ]
  }
 ],
 "metadata": {
  "kernelspec": {
   "display_name": ".venv",
   "language": "python",
   "name": "python3"
  },
  "language_info": {
   "codemirror_mode": {
    "name": "ipython",
    "version": 3
   },
   "file_extension": ".py",
   "mimetype": "text/x-python",
   "name": "python",
   "nbconvert_exporter": "python",
   "pygments_lexer": "ipython3",
   "version": "3.11.11"
  }
 },
 "nbformat": 4,
 "nbformat_minor": 5
}
