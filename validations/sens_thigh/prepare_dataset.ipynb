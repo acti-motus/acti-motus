{
 "cells": [
  {
   "cell_type": "markdown",
   "id": "0",
   "metadata": {},
   "source": [
    "Origin data can be downloaded here: https://zenodo.org/records/12704412"
   ]
  },
  {
   "cell_type": "code",
   "execution_count": null,
   "id": "1",
   "metadata": {},
   "outputs": [],
   "source": [
    "from pathlib import Path\n",
    "import pandas as pd\n",
    "\n",
    "\n",
    "def prepare_raw(path: Path) -> pd.DataFrame:\n",
    "    raw = pd.read_csv(path, engine='pyarrow')\n",
    "    raw['datetime'] = raw['utc'].dt.tz_convert('Europe/Berlin')\n",
    "    raw.columns = [x.strip() for x in raw.columns]\n",
    "    raw = raw[['datetime', 'x', 'y', 'z']]\n",
    "    raw.set_index('datetime', inplace=True)\n",
    "    raw.rename(columns={'x': 'acc_x', 'y': 'acc_y', 'z': 'acc_z'}, inplace=True)\n",
    "\n",
    "    return -raw\n",
    "\n",
    "\n",
    "folder = Path('origin')\n",
    "\n",
    "input = (folder / 'data').rglob('raw*.csv')\n",
    "output = Path('data/thigh')\n",
    "output.mkdir(exist_ok=True, parents=True)\n",
    "\n",
    "for file in input:\n",
    "    id = file.parent.stem\n",
    "    df = prepare_raw(file)\n",
    "\n",
    "    df.to_parquet(\n",
    "        output / f'{id}.parquet',\n",
    "    )"
   ]
  },
  {
   "cell_type": "code",
   "execution_count": null,
   "id": "2",
   "metadata": {},
   "outputs": [],
   "source": [
    "from pathlib import Path\n",
    "\n",
    "import pandas as pd\n",
    "\n",
    "folder = Path('origin')\n",
    "\n",
    "ground_truth = pd.read_csv(folder / 'data/ground_truth_lab.csv', engine='pyarrow')\n",
    "ground_truth.rename(columns={'time': 'datetime', 'activity': 'ground_truth'}, inplace=True)\n",
    "ground_truth.set_index('datetime', inplace=True)\n",
    "ground_truth['condition'] = 'laboratory'\n",
    "\n",
    "input = Path(folder / 'data').rglob('annotations*seconds.csv')\n",
    "\n",
    "output = Path('data/ground_truth')\n",
    "output.mkdir(exist_ok=True, parents=True)\n",
    "\n",
    "\n",
    "def prepare_free_living_ground_truth(path: Path) -> pd.DataFrame:\n",
    "    df = pd.read_csv(path, engine='pyarrow')\n",
    "    df['time'] = df['time'].dt.tz_convert(None).dt.tz_localize('Europe/Berlin').dt.tz_convert('UTC')\n",
    "    df.rename(columns={'time': 'datetime', 'activity': 'ground_truth'}, inplace=True)\n",
    "    df.set_index('datetime', inplace=True)\n",
    "    df['condition'] = 'free-living'\n",
    "\n",
    "    return df\n",
    "\n",
    "\n",
    "for file in input:\n",
    "    id = file.parent.stem\n",
    "    df = prepare_free_living_ground_truth(file)\n",
    "    gt = ground_truth.loc[ground_truth['id'] == id]\n",
    "    df = pd.concat([df, gt])\n",
    "    df.sort_index(inplace=True)\n",
    "\n",
    "    df.to_parquet(\n",
    "        output / f'{id}.parquet',\n",
    "    )"
   ]
  }
 ],
 "metadata": {
  "kernelspec": {
   "display_name": ".venv",
   "language": "python",
   "name": "python3"
  },
  "language_info": {
   "codemirror_mode": {
    "name": "ipython",
    "version": 3
   },
   "file_extension": ".py",
   "mimetype": "text/x-python",
   "name": "python",
   "nbconvert_exporter": "python",
   "pygments_lexer": "ipython3",
   "version": "3.11.11"
  }
 },
 "nbformat": 4,
 "nbformat_minor": 5
}
