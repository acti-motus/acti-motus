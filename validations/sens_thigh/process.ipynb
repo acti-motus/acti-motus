{
 "cells": [
  {
   "cell_type": "code",
   "execution_count": 1,
   "id": "0",
   "metadata": {},
   "outputs": [
    {
     "name": "stdout",
     "output_type": "stream",
     "text": [
      "Ground truth file does not exist for P16.parquet, skipping.\n"
     ]
    },
    {
     "name": "stderr",
     "output_type": "stream",
     "text": [
      "WARNING:acti_motus.classifications.thigh:No valid walk data found. Using default reference angle: -16.00 degrees.\n"
     ]
    },
    {
     "name": "stdout",
     "output_type": "stream",
     "text": [
      "Ground truth file does not exist for P13.parquet, skipping.\n",
      "Ground truth file does not exist for P35.parquet, skipping.\n"
     ]
    },
    {
     "name": "stderr",
     "output_type": "stream",
     "text": [
      "WARNING:acti_motus.classifications.thigh:No valid walk data found. Using default reference angle: -16.00 degrees.\n"
     ]
    }
   ],
   "source": [
    "import pandas as pd\n",
    "from acti_motus import Features, Activities\n",
    "from pathlib import Path\n",
    "\n",
    "\n",
    "def rotate_by_90_degrees_over_x(df: pd.DataFrame) -> pd.DataFrame:\n",
    "    df = df.copy()\n",
    "    y_new = -df['acc_z']\n",
    "    z_new = df['acc_y']\n",
    "\n",
    "    df['acc_y'] = y_new\n",
    "    df['acc_z'] = z_new\n",
    "\n",
    "    return df\n",
    "\n",
    "\n",
    "files = Path('data/thigh').glob('*.parquet')\n",
    "\n",
    "features = Features()\n",
    "activities = Activities('Sens', orientation=False)\n",
    "\n",
    "results = []\n",
    "\n",
    "for file in files:\n",
    "    gt = file.parent.parent / 'ground_truth' / file.name\n",
    "\n",
    "    if not gt.exists():\n",
    "        print(f'Ground truth file does not exist for {file.name}, skipping.')\n",
    "        continue\n",
    "\n",
    "    ground_truth = pd.read_parquet(file.parent.parent / 'ground_truth' / file.name)\n",
    "    df = pd.read_parquet(file)\n",
    "    df = rotate_by_90_degrees_over_x(df)\n",
    "\n",
    "    extracted_features = features.extract(df)\n",
    "    activity, references = activities.detect(extracted_features)\n",
    "\n",
    "    df = ground_truth.join(activity, how='left')\n",
    "    results.append(df)\n",
    "\n",
    "results = pd.concat(results)\n",
    "results = results.loc[~((results['id'] == 'P17') & (results['ground_truth'] == 'running_fast'))]\n",
    "results.to_parquet('processed_data.parquet', index=True)"
   ]
  }
 ],
 "metadata": {
  "kernelspec": {
   "display_name": ".venv",
   "language": "python",
   "name": "python3"
  },
  "language_info": {
   "codemirror_mode": {
    "name": "ipython",
    "version": 3
   },
   "file_extension": ".py",
   "mimetype": "text/x-python",
   "name": "python",
   "nbconvert_exporter": "python",
   "pygments_lexer": "ipython3",
   "version": "3.11.11"
  }
 },
 "nbformat": 4,
 "nbformat_minor": 5
}
