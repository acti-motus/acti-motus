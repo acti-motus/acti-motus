{
 "cells": [
  {
   "cell_type": "code",
   "execution_count": null,
   "id": "0",
   "metadata": {},
   "outputs": [],
   "source": [
    "import sys\n",
    "\n",
    "sys.path.append('..')\n",
    "\n",
    "from functions import get_confusion_matrix, get_validity_metrics\n",
    "import pandas as pd\n",
    "\n",
    "sensor = 'thigh'\n",
    "\n",
    "df = pd.read_parquet(f'processed_{sensor}.parquet')\n",
    "\n",
    "annotations = df['ground_truth'].unique().tolist()\n",
    "\n",
    "rename = {\n",
    "    'standing': 'stand',\n",
    "    'shuffling': 'stand',\n",
    "    'walking': 'walk',\n",
    "    'stairs (descending)': 'walk',\n",
    "    'stairs (ascending)': 'walk',\n",
    "    'sitting': 'sit',\n",
    "    'lying': 'lie',\n",
    "}\n",
    "df['ground_truth'] = df['ground_truth'].map(rename)\n",
    "\n",
    "# df.loc[df['activity'] == 'move', 'activity'] = 'stand'\n",
    "# df.loc[df['activity'] == 'stairs', 'activity'] = 'walk'\n",
    "\n",
    "plot = get_confusion_matrix(df['ground_truth'], df['activity'], labels=['lie', 'sit', 'stand', 'walk'])  # move, stairs\n",
    "plot.write_image(f'{sensor}.png', scale=2)\n",
    "\n",
    "results = get_validity_metrics(df['ground_truth'], df['activity'])\n",
    "results.to_csv(f'{sensor}.csv')"
   ]
  }
 ],
 "metadata": {
  "kernelspec": {
   "display_name": ".venv",
   "language": "python",
   "name": "python3"
  },
  "language_info": {
   "codemirror_mode": {
    "name": "ipython",
    "version": 3
   },
   "file_extension": ".py",
   "mimetype": "text/x-python",
   "name": "python",
   "nbconvert_exporter": "python",
   "pygments_lexer": "ipython3",
   "version": "3.11.11"
  }
 },
 "nbformat": 4,
 "nbformat_minor": 5
}
