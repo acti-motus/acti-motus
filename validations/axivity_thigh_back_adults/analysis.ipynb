{
 "cells": [
  {
   "cell_type": "code",
   "execution_count": null,
   "id": "0",
   "metadata": {},
   "outputs": [],
   "source": [
    "import sys\n",
    "\n",
    "sys.path.append('..')\n",
    "\n",
    "from functions import get_confusion_matrix, get_validity_metrics\n",
    "import pandas as pd\n",
    "\n",
    "sensor = 'trunk'\n",
    "\n",
    "df = pd.read_parquet(f'processed_{sensor}.parquet')\n",
    "\n",
    "annotations = df['ground_truth'].unique().tolist()\n",
    "\n",
    "# df = df[~df['ground_truth'].isin([\"shuffling\", \"cycling (stand, inactive)\", \"cycling (stand)\"])]\n",
    "\n",
    "rename = {\n",
    "    'standing': 'stand',\n",
    "    'shuffling': 'stand',\n",
    "    'walking': 'walk',\n",
    "    'stairs (descending)': 'stairs',\n",
    "    'stairs (ascending)': 'stairs',\n",
    "    'sitting': 'sit',\n",
    "    'cycling (sit)': 'bicycle',\n",
    "    'lying': 'lie',\n",
    "    'cycling (sit, inactive)': 'bicycle',\n",
    "    'cycling (stand)': 'bicycle',\n",
    "    'running': 'run',\n",
    "    'cycling (stand, inactive)': 'bicycle',\n",
    "}\n",
    "df['ground_truth'] = df['ground_truth'].map(rename)\n",
    "\n",
    "df.loc[df['activity'] == 'move', 'activity'] = 'stand'\n",
    "# df.loc[df['activity'] == 'stairs', 'activity'] = 'walk'\n",
    "\n",
    "plot = get_confusion_matrix(\n",
    "    df['ground_truth'], df['activity'], labels=['lie', 'sit', 'stand', 'walk', 'stairs', 'run', 'bicycle']\n",
    ")  # move, stairs\n",
    "plot.write_image(f'{sensor}.png', scale=2)\n",
    "\n",
    "results = get_validity_metrics(df['ground_truth'], df['activity'])\n",
    "results.to_csv(f'{sensor}.csv')"
   ]
  }
 ],
 "metadata": {
  "kernelspec": {
   "display_name": ".venv",
   "language": "python",
   "name": "python3"
  },
  "language_info": {
   "codemirror_mode": {
    "name": "ipython",
    "version": 3
   },
   "file_extension": ".py",
   "mimetype": "text/x-python",
   "name": "python",
   "nbconvert_exporter": "python",
   "pygments_lexer": "ipython3",
   "version": "3.11.11"
  }
 },
 "nbformat": 4,
 "nbformat_minor": 5
}
