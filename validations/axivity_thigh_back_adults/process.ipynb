{
 "cells": [
  {
   "cell_type": "code",
   "execution_count": null,
   "id": "0",
   "metadata": {},
   "outputs": [],
   "source": [
    "# import logging\n",
    "\n",
    "# # Configure logging to see info messages\n",
    "# logging.basicConfig(level=logging.INFO, format='%(name)s - %(levelname)s - %(message)s')"
   ]
  },
  {
   "cell_type": "code",
   "execution_count": null,
   "id": "1",
   "metadata": {},
   "outputs": [],
   "source": [
    "import pandas as pd\n",
    "from acti_motus import Features, Activities\n",
    "from pathlib import Path\n",
    "\n",
    "\n",
    "files = Path('data/thigh').glob('*.parquet')\n",
    "\n",
    "features = Features()\n",
    "activities = Activities()\n",
    "\n",
    "results = []\n",
    "results_trunk = []\n",
    "\n",
    "for thigh in files:\n",
    "    gt = thigh.parent.parent / 'ground_truth' / thigh.name\n",
    "\n",
    "    ground_truth = pd.read_parquet(gt)\n",
    "    df = pd.read_parquet(thigh)\n",
    "\n",
    "    extracted_features = features.extract(df)\n",
    "    activity, references = activities.detect(extracted_features, orientation=True)\n",
    "\n",
    "    df = ground_truth.join(activity, how='left')\n",
    "    df.dropna(subset=['activity'], inplace=True)\n",
    "    results.append(df)\n",
    "\n",
    "    # Add trunk\n",
    "    trunk = thigh.parent.parent / 'trunk' / thigh.name\n",
    "    trunk = pd.read_parquet(trunk)\n",
    "\n",
    "    features_trunk = features.extract(trunk)\n",
    "    activity_trunk, references_trunk = activities.detect(extracted_features, trunk=features_trunk)\n",
    "    trunk_df = ground_truth.join(activity_trunk, how='left')\n",
    "    trunk_df.dropna(subset=['activity'], inplace=True)\n",
    "    results_trunk.append(trunk_df)\n",
    "\n",
    "results = pd.concat(results)\n",
    "results.to_parquet('processed_thigh.parquet', index=True)\n",
    "\n",
    "results_trunk = pd.concat(results_trunk)\n",
    "results_trunk.to_parquet('processed_trunk.parquet', index=True)"
   ]
  }
 ],
 "metadata": {
  "kernelspec": {
   "display_name": ".venv",
   "language": "python",
   "name": "python3"
  },
  "language_info": {
   "codemirror_mode": {
    "name": "ipython",
    "version": 3
   },
   "file_extension": ".py",
   "mimetype": "text/x-python",
   "name": "python",
   "nbconvert_exporter": "python",
   "pygments_lexer": "ipython3",
   "version": "3.11.11"
  }
 },
 "nbformat": 4,
 "nbformat_minor": 5
}
